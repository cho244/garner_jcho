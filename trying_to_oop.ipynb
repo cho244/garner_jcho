{
 "cells": [
  {
   "cell_type": "markdown",
   "metadata": {},
   "source": [
    "I see you've clicked onto this page. So you will see a glimpse of my coding style. It's far from done. There's a variables for me to understand exactly what the assignment was asking for the function object/ function to do. I would need to know what the user wanted to input. The condition statements can get messy. Should I assume there's only one condition (that's pretty easy, but I wanted it to be more complex)? I've been thinking about the problem and toying around with it. How do I build a function that doesn't have a long runtime (since the databases are going to be massively long) and where the user can type in a variety of specific information and get the table they were looking for? I'm being going back-and-forth changing/deleting things. I also want to make sure I can write it in a way that anyone can come in and see what each line means and why I wrote it. That is not going to be accomplishable for me within a couple of hours, especially because it's lots of information to swallow to get percision.\n",
    "\n",
    "The data science part of finding the answer isn't too bad, but building a pipeline is going to take me longer. I was more focused on getting the pipeline built than the straight forward answer. "
   ]
  },
  {
   "cell_type": "code",
   "execution_count": 3,
   "metadata": {},
   "outputs": [],
   "source": [
    "import pandas as pd\n",
    "import sqlite3\n",
    "db = sqlite3.connect('claims.db')"
   ]
  },
  {
   "cell_type": "code",
   "execution_count": 2,
   "metadata": {},
   "outputs": [],
   "source": [
    "# This class creates the table needed\n",
    "class Table:\n",
    "    \n",
    "    def __init__(self,  select_columns, table, where_column, condition):\n",
    "        self.table = table # string\n",
    "        self.where_column = where_column # string\n",
    "        self.condition = condition # list of strings, check if row has anything in [x,y]\n",
    "        self.condition_str = ''\n",
    "        self.select_columns = select_columns #columns for output, also list of strings\n",
    "        self.conditions = ''\n",
    "        self.d = []\n",
    "        self.p = []\n",
    "        \n",
    "        #I'm using a loop to access all the P1-15 and D1-25 since they are indistinguishible \n",
    "        for i in range(1, 16):\n",
    "            self.p.append('P' + str(i))\n",
    "        for i in range(1, 26):\n",
    "            self.d.append('D' + str(i))\n",
    "\n",
    "    \n",
    "    \n",
    "    ### the long condition will be used if we are searching through D1-25 or P1-15\n",
    "    def long_condition(self,p_d):\n",
    "        for i in p_d:\n",
    "            for j in self.condition:\n",
    "                self.conditions += (i)+ ' LIKE (\\'' + j + '%\\')' + ' OR '\n",
    "        self.conditions = self.conditions[:-4]\n",
    "        return self.conditions\n",
    "    \n",
    "\n",
    "    def final_condition(self):\n",
    "        if self.where_column[0]== 'P':\n",
    "            self.conditions =  self.long_condition(self.p);\n",
    "        elif self.where_column[0]=='D':\n",
    "            self.conditions = self.long_condition(self.d);\n",
    "        else:\n",
    "            for i in self.condition:\n",
    "                self.condition_str += i + ', '\n",
    "            self.conditions =  (self.where_column + ' IN ' + '('+ self.condition_str[:-2] + ')')\n",
    "        return self.conditions\n",
    "\n",
    "    def new_table(self):\n",
    "        self.final_condition()\n",
    "        #now in order to use self.seearch_columns\n",
    "        #I have to convert the datatype from list to str\n",
    "        between_lst = ', '\n",
    "        self.select_columns = between_lst.join(self.select_columns)\n",
    "        return pd.read_sql_query('SELECT '  + self.select_columns \n",
    "                                 + ' FROM ' + self.table\n",
    "                                 + ' WHERE ' + self.conditions + '',  db )\n",
    "                    "
   ]
  },
  {
   "cell_type": "code",
   "execution_count": null,
   "metadata": {},
   "outputs": [],
   "source": []
  }
 ],
 "metadata": {
  "kernelspec": {
   "display_name": "Python 3",
   "language": "python",
   "name": "python3"
  },
  "language_info": {
   "codemirror_mode": {
    "name": "ipython",
    "version": 3
   },
   "file_extension": ".py",
   "mimetype": "text/x-python",
   "name": "python",
   "nbconvert_exporter": "python",
   "pygments_lexer": "ipython3",
   "version": "3.7.1"
  }
 },
 "nbformat": 4,
 "nbformat_minor": 2
}
