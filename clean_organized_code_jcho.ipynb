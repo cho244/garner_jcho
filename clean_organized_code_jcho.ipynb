{
 "cells": [
  {
   "cell_type": "code",
   "execution_count": 1,
   "metadata": {},
   "outputs": [],
   "source": [
    "import pandas as pd\n",
    "import sqlite3\n",
    "db = sqlite3.connect('claims.db')"
   ]
  },
  {
   "cell_type": "code",
   "execution_count": 27,
   "metadata": {},
   "outputs": [],
   "source": [
    "# This class creates the table needed\n",
    "class Table:\n",
    "    \n",
    "    def __init__(self, table, search_column, outcomes, columns_on_table ):\n",
    "        self.table = table #datatype is string\n",
    "        self.search_column = search_column # dataype is a string\n",
    "        self.outcomes = outcomes # datatype is a list of strings\n",
    "        self.columns_on_table = columns_on_table #the columns you want to output on the table\n",
    "        self.conditions = ''\n",
    "        self.d = []\n",
    "        self.p = []\n",
    "        \n",
    "        #I'm using a loop to access all the P1-15 and D1-25 since they are indistinguishible \n",
    "        for i in range(1, 16):\n",
    "            self.p.append('P' + str(i))\n",
    "        for i in range(1, 26):\n",
    "            self.d.append('D' + str(i))\n",
    "    \n",
    "    def long_condition(self,p_d):\n",
    "        for i in p_d:\n",
    "            for j in self.outcomes:\n",
    "                self.conditions += (i)+ ' LIKE (\\'' + j + '%\\')' + ' OR '\n",
    "        self.conditions = self.conditions[:-4]\n",
    "\n",
    "    def final_condition(self):\n",
    "        if self.search_column in self.p:\n",
    "            self.conditions =  self.long_condition(self.p);\n",
    "        elif self.search_column in self.d:\n",
    "            return  self.long_condition(self.d);\n",
    "        else:\n",
    "            self.conditions =  (self.search_column + '=' + self.outcomes)\n",
    "            \n",
    "        return self.conditions\n",
    "  \n",
    "    def new_table(self):\n",
    "        self.final_condition()\n",
    "        return pd.read_sql_query('SELECT '  + self.columns_on_table \n",
    "                                 + ' FROM ' + self.table\n",
    "                                 + ' WHERE ' + self.conditions + '',  db )\n",
    "\n",
    "    \n",
    "\n",
    "\n",
    "\n",
    "                                 \n"
   ]
  },
  {
   "cell_type": "code",
   "execution_count": 32,
   "metadata": {},
   "outputs": [],
   "source": [
    "colon_cancer = Table(\"medical_headers\", 'D2', ['152'], 'patient_id').new_table()"
   ]
  },
  {
   "cell_type": "code",
   "execution_count": 33,
   "metadata": {},
   "outputs": [
    {
     "data": {
      "text/html": [
       "<div>\n",
       "<style scoped>\n",
       "    .dataframe tbody tr th:only-of-type {\n",
       "        vertical-align: middle;\n",
       "    }\n",
       "\n",
       "    .dataframe tbody tr th {\n",
       "        vertical-align: top;\n",
       "    }\n",
       "\n",
       "    .dataframe thead th {\n",
       "        text-align: right;\n",
       "    }\n",
       "</style>\n",
       "<table border=\"1\" class=\"dataframe\">\n",
       "  <thead>\n",
       "    <tr style=\"text-align: right;\">\n",
       "      <th></th>\n",
       "      <th>patient_id</th>\n",
       "    </tr>\n",
       "  </thead>\n",
       "  <tbody>\n",
       "    <tr>\n",
       "      <th>0</th>\n",
       "      <td>d73675f4ced179dd89841023520add308ca9506c3b7b68...</td>\n",
       "    </tr>\n",
       "    <tr>\n",
       "      <th>1</th>\n",
       "      <td>ae9c79dbb1705869914e49b4672a526f67203608fe4eb4...</td>\n",
       "    </tr>\n",
       "    <tr>\n",
       "      <th>2</th>\n",
       "      <td>09948392c93d3cc562836d8cb835d181b2b6cb26c42305...</td>\n",
       "    </tr>\n",
       "    <tr>\n",
       "      <th>3</th>\n",
       "      <td>909858918678003375d75b44ecd2bd4eae1450513b0852...</td>\n",
       "    </tr>\n",
       "    <tr>\n",
       "      <th>4</th>\n",
       "      <td>70f54de4003d6c4004530eb40b2c8f31a60c18c5c2c2dc...</td>\n",
       "    </tr>\n",
       "  </tbody>\n",
       "</table>\n",
       "</div>"
      ],
      "text/plain": [
       "                                          patient_id\n",
       "0  d73675f4ced179dd89841023520add308ca9506c3b7b68...\n",
       "1  ae9c79dbb1705869914e49b4672a526f67203608fe4eb4...\n",
       "2  09948392c93d3cc562836d8cb835d181b2b6cb26c42305...\n",
       "3  909858918678003375d75b44ecd2bd4eae1450513b0852...\n",
       "4  70f54de4003d6c4004530eb40b2c8f31a60c18c5c2c2dc..."
      ]
     },
     "execution_count": 33,
     "metadata": {},
     "output_type": "execute_result"
    }
   ],
   "source": []
  },
  {
   "cell_type": "code",
   "execution_count": null,
   "metadata": {},
   "outputs": [],
   "source": []
  }
 ],
 "metadata": {
  "kernelspec": {
   "display_name": "Python 3",
   "language": "python",
   "name": "python3"
  },
  "language_info": {
   "codemirror_mode": {
    "name": "ipython",
    "version": 3
   },
   "file_extension": ".py",
   "mimetype": "text/x-python",
   "name": "python",
   "nbconvert_exporter": "python",
   "pygments_lexer": "ipython3",
   "version": "3.7.1"
  }
 },
 "nbformat": 4,
 "nbformat_minor": 2
}
