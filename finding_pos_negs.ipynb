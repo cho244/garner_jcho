{
 "cells": [
  {
   "cell_type": "code",
   "execution_count": 1,
   "metadata": {},
   "outputs": [],
   "source": [
    "import pandas as pd\n",
    "import sqlite3\n",
    "db = sqlite3.connect('claims.db')"
   ]
  },
  {
   "cell_type": "code",
   "execution_count": 1,
   "metadata": {},
   "outputs": [],
   "source": [
    "# This was to populate p1-15, d1-25 the cleaner and lazier way\n",
    "\n",
    "def proc_diag(s,start, end): #this function is to help me populate the columns D1-D25, and P1-P15\n",
    "    result = []\n",
    "\n",
    "    for i in range(start, end+1):\n",
    "        result.append(s + str(i))\n",
    "    \n",
    "    return result\n",
    "\n",
    "\n",
    "p = proc_diag('P',1,15)\n",
    "d = proc_diag('D',1,25)\n",
    "\n",
    "\n",
    "def concat_columns(lst):\n",
    "    result = ''\n",
    "    for i in lst:\n",
    "        result += str(i) + '||' \n",
    "    return result[:-2]\n",
    "\n",
    "\n",
    "d_columns = concat_columns(d)\n",
    "\n",
    "# this is to check every combo of p1-p15 and d1-d25\n",
    "def long_condition(proc_diag, code_number): # can only use on specific diagnoses\n",
    "    result = \"\"\n",
    "    for i in proc_diag:\n",
    "        for j in code_number:\n",
    "            result += str(i)+ ' = \\'' + str(j)+ '\\'' + ' OR '\n",
    "    return result\n",
    "\n",
    "check_for_maglignant_colon = long_condition(d, ['152'])\n",
    "\n",
    "\n",
    "#changes list to string\n",
    "def list_to_string (lst):\n",
    "    result = ''\n",
    "    for i in lst:\n",
    "        result += str(i) + ', ' \n",
    "    return result[:-2]\n",
    "\n",
    "d_string = list_to_string(d)\n",
    "\n",
    "\n",
    "pcs = [45.8,45.7,45.23]    \n",
    "p_diagnose_code = long_condition(p, pcs) \n",
    "\n",
    "\n"
   ]
  },
  {
   "cell_type": "code",
   "execution_count": 167,
   "metadata": {},
   "outputs": [],
   "source": [
    "# this code works well if you only are checking for one item and it's a little more general\n",
    "# in our assignment it says 152. and I could hard code 152.1, 152.2 but I wanted to try it a different way\n",
    "\n",
    "def diagnosis (diagnosis_code) : \n",
    "    return pd.read_sql_query(\n",
    "                            'SELECT encounter_key, patient_id, doctor_id, ' + d_columns + ''' as diagnoses\n",
    "                              FROM medical_headers\n",
    "                              WHERE diagnoses LIKE '%'''\n",
    "                                + diagnosis_code + \"%'\",db)"
   ]
  },
  {
   "cell_type": "code",
   "execution_count": 168,
   "metadata": {},
   "outputs": [],
   "source": [
    "#These people needed colonoscopies\n",
    "colon_cancer = diagnosis('152.')"
   ]
  },
  {
   "cell_type": "code",
   "execution_count": 3,
   "metadata": {},
   "outputs": [],
   "source": [
    "def multiple_diagnosis (list_diagnosis_code):\n",
    "    return pd.read_sql_query('''SELECT encounter_key, patient_id, doctor_id\n",
    "                               FROM medical_headers\n",
    "                              WHERE ''' + list_diagnosis_code [:-3] + ''' and patient_id \n",
    "                              NOT IN (SELECT patient_id\n",
    "                              FROM medical_headers\n",
    "                              WHERE ''' + d_columns + ''' LIKE '%152%')\n",
    "                              ''', db)\n",
    "\n",
    "\n",
    "# def multiple_diagnosis (list_diagnosis_code):\n",
    "#     return pd.read_sql_query('''SELECT encounter_key, patient_id, doctor_id\n",
    "#                                FROM medical_headers\n",
    "#                               WHERE ''' + list_diagnosis_code [:-3] + ''' and patient_id \n",
    "#                               NOT IN''' colon_cancer.patient_id\n",
    "# This would be the better way to do it. check for the patient_id's in the magliment dataframe\n",
    "# It the patient_id is there than they cannot be in this dataframe\n",
    "  "
   ]
  },
  {
   "cell_type": "code",
   "execution_count": 170,
   "metadata": {},
   "outputs": [],
   "source": [
    "begnin = long_condition(d, ['211.3', '211.4'])\n",
    "#These people do NOT need colonoscopies this is my denomonator\n",
    "not_colon_cancer = multiple_diagnosis(begnin)"
   ]
  },
  {
   "cell_type": "code",
   "execution_count": 177,
   "metadata": {
    "scrolled": true
   },
   "outputs": [
    {
     "name": "stdout",
     "output_type": "stream",
     "text": [
      "<class 'pandas.core.frame.DataFrame'>\n",
      "RangeIndex: 9699 entries, 0 to 9698\n",
      "Data columns (total 3 columns):\n",
      "encounter_key    9699 non-null object\n",
      "patient_id       9699 non-null object\n",
      "doctor_id        9699 non-null object\n",
      "dtypes: object(3)\n",
      "memory usage: 227.4+ KB\n"
     ]
    }
   ],
   "source": [
    "not_colon_cancer.info()    "
   ]
  },
  {
   "cell_type": "code",
   "execution_count": 194,
   "metadata": {},
   "outputs": [],
   "source": [
    "\n",
    "def nums_between (start,end):\n",
    "    result = []\n",
    "    for i in range (start, end+1):\n",
    "        result.append(i)\n",
    "        \n",
    "    return result\n",
    "\n",
    "cpt = [45378, 45388, 44110 ] + nums_between(45380,45385) + nums_between (44150,44160) + nums_between(44204, 44208) + nums_between(44210, 44212) + [44146]\n",
    "only_resection = [44110,44146] + nums_between (44150,44160) +nums_between(44204, 44208) + nums_between(44210, 44212)"
   ]
  },
  {
   "cell_type": "code",
   "execution_count": 195,
   "metadata": {},
   "outputs": [],
   "source": [
    "cpt_string = list_to_string(cpt)\n",
    "resection_string = list_to_string(only_resection)"
   ]
  },
  {
   "cell_type": "code",
   "execution_count": 184,
   "metadata": {},
   "outputs": [
    {
     "data": {
      "text/plain": [
       "'45378, 45388, 44110, 45380, 45381, 45382, 45383, 45384, 45385, 44150, 44151, 44152, 44153, 44154, 44155, 44156, 44157, 44158, 44159, 44160, 44204, 44205, 44206, 44207, 44208, 44210, 44211, 44212, 44146'"
      ]
     },
     "execution_count": 184,
     "metadata": {},
     "output_type": "execute_result"
    }
   ],
   "source": [
    "cpt_string"
   ]
  },
  {
   "cell_type": "code",
   "execution_count": 187,
   "metadata": {},
   "outputs": [],
   "source": [
    "#Colonoscopy/colectomy was preformed, this is my numerator\n",
    "\n",
    "cc = pd.read_sql_query('''SELECT encounter_key, procedure\n",
    "                               FROM medical_service_lines\n",
    "                              WHERE procedure in (''' + cpt_string + ''')''', db)\n"
   ]
  },
  {
   "cell_type": "code",
   "execution_count": 196,
   "metadata": {},
   "outputs": [],
   "source": [
    "#This is for only those who got a colectomy\n",
    "\n",
    "resection = pd.read_sql_query('''SELECT encounter_key, procedure\n",
    "                               FROM medical_service_lines\n",
    "                              WHERE procedure in (''' + resection_string+ ''')''', db)\n"
   ]
  },
  {
   "cell_type": "code",
   "execution_count": 4,
   "metadata": {},
   "outputs": [
    {
     "ename": "NameError",
     "evalue": "name 'not_colon_cancer' is not defined",
     "output_type": "error",
     "traceback": [
      "\u001b[0;31m---------------------------------------------------------------------------\u001b[0m",
      "\u001b[0;31mNameError\u001b[0m                                 Traceback (most recent call last)",
      "\u001b[0;32m<ipython-input-4-b6a8e392046f>\u001b[0m in \u001b[0;36m<module>\u001b[0;34m\u001b[0m\n\u001b[1;32m      1\u001b[0m \u001b[0;34m\u001b[0m\u001b[0m\n\u001b[0;32m----> 2\u001b[0;31m \u001b[0mfp\u001b[0m\u001b[0;34m=\u001b[0m \u001b[0mnot_colon_cancer\u001b[0m\u001b[0;34m.\u001b[0m\u001b[0mmerge\u001b[0m\u001b[0;34m(\u001b[0m\u001b[0mcc\u001b[0m\u001b[0;34m,\u001b[0m \u001b[0mleft_on\u001b[0m \u001b[0;34m=\u001b[0m \u001b[0mnot_colon_cancer\u001b[0m\u001b[0;34m.\u001b[0m\u001b[0mencounter_key\u001b[0m\u001b[0;34m,\u001b[0m \u001b[0mright_on\u001b[0m\u001b[0;34m=\u001b[0m \u001b[0mcc\u001b[0m\u001b[0;34m.\u001b[0m\u001b[0mencounter_key\u001b[0m\u001b[0;34m)\u001b[0m\u001b[0;34m\u001b[0m\u001b[0;34m\u001b[0m\u001b[0m\n\u001b[0m\u001b[1;32m      3\u001b[0m \u001b[0mfp\u001b[0m\u001b[0;34m.\u001b[0m\u001b[0mdrop\u001b[0m\u001b[0;34m(\u001b[0m\u001b[0;34m[\u001b[0m\u001b[0;34m'encounter_key_x'\u001b[0m\u001b[0;34m,\u001b[0m \u001b[0;34m'encounter_key_y'\u001b[0m\u001b[0;34m]\u001b[0m\u001b[0;34m,\u001b[0m \u001b[0maxis\u001b[0m \u001b[0;34m=\u001b[0m \u001b[0;36m1\u001b[0m\u001b[0;34m)\u001b[0m\u001b[0;34m\u001b[0m\u001b[0;34m\u001b[0m\u001b[0m\n\u001b[1;32m      4\u001b[0m \u001b[0;34m\u001b[0m\u001b[0m\n\u001b[1;32m      5\u001b[0m \u001b[0mprint\u001b[0m\u001b[0;34m(\u001b[0m\u001b[0;34m)\u001b[0m\u001b[0;34m\u001b[0m\u001b[0;34m\u001b[0m\u001b[0m\n",
      "\u001b[0;31mNameError\u001b[0m: name 'not_colon_cancer' is not defined"
     ]
    }
   ],
   "source": [
    "\n",
    "fp= not_colon_cancer.merge(cc, left_on = not_colon_cancer.encounter_key, right_on= cc.encounter_key)\n",
    "fp.drop(['encounter_key_x', 'encounter_key_y'], axis = 1)\n",
    "\n",
    "print()"
   ]
  },
  {
   "cell_type": "code",
   "execution_count": 191,
   "metadata": {},
   "outputs": [],
   "source": [
    "result = pd.merge(not_colon_cancer, cc, how=\"left\", on=[\"encounter_key\"])\n"
   ]
  },
  {
   "cell_type": "code",
   "execution_count": 202,
   "metadata": {
    "scrolled": true
   },
   "outputs": [
    {
     "ename": "KeyError",
     "evalue": "'patient_id'",
     "output_type": "error",
     "traceback": [
      "\u001b[0;31m---------------------------------------------------------------------------\u001b[0m",
      "\u001b[0;31mKeyError\u001b[0m                                  Traceback (most recent call last)",
      "\u001b[0;32m<ipython-input-202-84aab886bac4>\u001b[0m in \u001b[0;36m<module>\u001b[0;34m\u001b[0m\n\u001b[0;32m----> 1\u001b[0;31m \u001b[0mben_got_col\u001b[0m \u001b[0;34m=\u001b[0m  \u001b[0mpd\u001b[0m\u001b[0;34m.\u001b[0m\u001b[0mmerge\u001b[0m\u001b[0;34m(\u001b[0m\u001b[0mnot_colon_cancer\u001b[0m\u001b[0;34m,\u001b[0m \u001b[0mresection\u001b[0m\u001b[0;34m,\u001b[0m \u001b[0mhow\u001b[0m\u001b[0;34m=\u001b[0m\u001b[0;34m\"left\"\u001b[0m\u001b[0;34m,\u001b[0m \u001b[0mon\u001b[0m\u001b[0;34m=\u001b[0m\u001b[0;34m[\u001b[0m\u001b[0;34m\"patient_id\"\u001b[0m\u001b[0;34m]\u001b[0m\u001b[0;34m)\u001b[0m\u001b[0;34m\u001b[0m\u001b[0;34m\u001b[0m\u001b[0m\n\u001b[0m",
      "\u001b[0;32m~/anaconda3/lib/python3.7/site-packages/pandas/core/reshape/merge.py\u001b[0m in \u001b[0;36mmerge\u001b[0;34m(left, right, how, on, left_on, right_on, left_index, right_index, sort, suffixes, copy, indicator, validate)\u001b[0m\n\u001b[1;32m     59\u001b[0m                          \u001b[0mright_index\u001b[0m\u001b[0;34m=\u001b[0m\u001b[0mright_index\u001b[0m\u001b[0;34m,\u001b[0m \u001b[0msort\u001b[0m\u001b[0;34m=\u001b[0m\u001b[0msort\u001b[0m\u001b[0;34m,\u001b[0m \u001b[0msuffixes\u001b[0m\u001b[0;34m=\u001b[0m\u001b[0msuffixes\u001b[0m\u001b[0;34m,\u001b[0m\u001b[0;34m\u001b[0m\u001b[0;34m\u001b[0m\u001b[0m\n\u001b[1;32m     60\u001b[0m                          \u001b[0mcopy\u001b[0m\u001b[0;34m=\u001b[0m\u001b[0mcopy\u001b[0m\u001b[0;34m,\u001b[0m \u001b[0mindicator\u001b[0m\u001b[0;34m=\u001b[0m\u001b[0mindicator\u001b[0m\u001b[0;34m,\u001b[0m\u001b[0;34m\u001b[0m\u001b[0;34m\u001b[0m\u001b[0m\n\u001b[0;32m---> 61\u001b[0;31m                          validate=validate)\n\u001b[0m\u001b[1;32m     62\u001b[0m     \u001b[0;32mreturn\u001b[0m \u001b[0mop\u001b[0m\u001b[0;34m.\u001b[0m\u001b[0mget_result\u001b[0m\u001b[0;34m(\u001b[0m\u001b[0;34m)\u001b[0m\u001b[0;34m\u001b[0m\u001b[0;34m\u001b[0m\u001b[0m\n\u001b[1;32m     63\u001b[0m \u001b[0;34m\u001b[0m\u001b[0m\n",
      "\u001b[0;32m~/anaconda3/lib/python3.7/site-packages/pandas/core/reshape/merge.py\u001b[0m in \u001b[0;36m__init__\u001b[0;34m(self, left, right, how, on, left_on, right_on, axis, left_index, right_index, sort, suffixes, copy, indicator, validate)\u001b[0m\n\u001b[1;32m    549\u001b[0m         (self.left_join_keys,\n\u001b[1;32m    550\u001b[0m          \u001b[0mself\u001b[0m\u001b[0;34m.\u001b[0m\u001b[0mright_join_keys\u001b[0m\u001b[0;34m,\u001b[0m\u001b[0;34m\u001b[0m\u001b[0;34m\u001b[0m\u001b[0m\n\u001b[0;32m--> 551\u001b[0;31m          self.join_names) = self._get_merge_keys()\n\u001b[0m\u001b[1;32m    552\u001b[0m \u001b[0;34m\u001b[0m\u001b[0m\n\u001b[1;32m    553\u001b[0m         \u001b[0;31m# validate the merge keys dtypes. We may need to coerce\u001b[0m\u001b[0;34m\u001b[0m\u001b[0;34m\u001b[0m\u001b[0;34m\u001b[0m\u001b[0m\n",
      "\u001b[0;32m~/anaconda3/lib/python3.7/site-packages/pandas/core/reshape/merge.py\u001b[0m in \u001b[0;36m_get_merge_keys\u001b[0;34m(self)\u001b[0m\n\u001b[1;32m    855\u001b[0m                             right_keys.append(\n\u001b[1;32m    856\u001b[0m                                 right._get_label_or_level_values(\n\u001b[0;32m--> 857\u001b[0;31m                                     rk, stacklevel=stacklevel))\n\u001b[0m\u001b[1;32m    858\u001b[0m                         \u001b[0;32melse\u001b[0m\u001b[0;34m:\u001b[0m\u001b[0;34m\u001b[0m\u001b[0;34m\u001b[0m\u001b[0m\n\u001b[1;32m    859\u001b[0m                             \u001b[0;31m# work-around for merge_asof(right_index=True)\u001b[0m\u001b[0;34m\u001b[0m\u001b[0;34m\u001b[0m\u001b[0;34m\u001b[0m\u001b[0m\n",
      "\u001b[0;32m~/anaconda3/lib/python3.7/site-packages/pandas/core/generic.py\u001b[0m in \u001b[0;36m_get_label_or_level_values\u001b[0;34m(self, key, axis, stacklevel)\u001b[0m\n\u001b[1;32m   1380\u001b[0m             \u001b[0mvalues\u001b[0m \u001b[0;34m=\u001b[0m \u001b[0mself\u001b[0m\u001b[0;34m.\u001b[0m\u001b[0maxes\u001b[0m\u001b[0;34m[\u001b[0m\u001b[0maxis\u001b[0m\u001b[0;34m]\u001b[0m\u001b[0;34m.\u001b[0m\u001b[0mget_level_values\u001b[0m\u001b[0;34m(\u001b[0m\u001b[0mkey\u001b[0m\u001b[0;34m)\u001b[0m\u001b[0;34m.\u001b[0m\u001b[0m_values\u001b[0m\u001b[0;34m\u001b[0m\u001b[0;34m\u001b[0m\u001b[0m\n\u001b[1;32m   1381\u001b[0m         \u001b[0;32melse\u001b[0m\u001b[0;34m:\u001b[0m\u001b[0;34m\u001b[0m\u001b[0;34m\u001b[0m\u001b[0m\n\u001b[0;32m-> 1382\u001b[0;31m             \u001b[0;32mraise\u001b[0m \u001b[0mKeyError\u001b[0m\u001b[0;34m(\u001b[0m\u001b[0mkey\u001b[0m\u001b[0;34m)\u001b[0m\u001b[0;34m\u001b[0m\u001b[0;34m\u001b[0m\u001b[0m\n\u001b[0m\u001b[1;32m   1383\u001b[0m \u001b[0;34m\u001b[0m\u001b[0m\n\u001b[1;32m   1384\u001b[0m         \u001b[0;31m# Check for duplicates\u001b[0m\u001b[0;34m\u001b[0m\u001b[0;34m\u001b[0m\u001b[0;34m\u001b[0m\u001b[0m\n",
      "\u001b[0;31mKeyError\u001b[0m: 'patient_id'"
     ]
    }
   ],
   "source": [
    "ben_got_col =  pd.merge(not_colon_cancer, resection, how=\"left\", on=[\"encounter_key\"])"
   ]
  },
  {
   "cell_type": "code",
   "execution_count": 208,
   "metadata": {},
   "outputs": [],
   "source": [
    "# not_colon_cancer['patients'] = not_colon_cancer.groupby(['doctor_id'])\n",
    "#not enough time but i was going to use the groupby from pandas library to gather how many patients the doctor had\n",
    "#how many were bengin without any procedures and how many had procedures despite being bengin"
   ]
  },
  {
   "cell_type": "code",
   "execution_count": null,
   "metadata": {},
   "outputs": [],
   "source": [
    "pd.read_sql_query('''SELECT encounter_key, patient_id, doctor_id\n",
    "                               FROM medical_headers\n",
    "                              WHERE ''' + list_diagnosis_code [:-3] + ''' and patient_id \n",
    "                              NOT IN (SELECT patient_id\n",
    "                              FROM medical_headers\n",
    "                              WHERE ''' + d_columns + ''' LIKE '%152%')\n",
    "                              ''', db)"
   ]
  },
  {
   "cell_type": "code",
   "execution_count": 2,
   "metadata": {},
   "outputs": [],
   "source": [
    "#easy way to list all the D1-25 and P1-15\n",
    "def proc_diag(s,start, end): #this function is to help me populate the columns D1-D25, and P1-P15\n",
    "    result = []\n",
    "\n",
    "    for i in range(start, end+1):\n",
    "        result.append(s + str(i))\n",
    "    \n",
    "    return result\n",
    "\n",
    "\n",
    "p = proc_diag('P',1,15)\n",
    "d = proc_diag('D',1,25)"
   ]
  },
  {
   "cell_type": "code",
   "execution_count": 3,
   "metadata": {},
   "outputs": [
    {
     "data": {
      "text/plain": [
       "['P1',\n",
       " 'P2',\n",
       " 'P3',\n",
       " 'P4',\n",
       " 'P5',\n",
       " 'P6',\n",
       " 'P7',\n",
       " 'P8',\n",
       " 'P9',\n",
       " 'P10',\n",
       " 'P11',\n",
       " 'P12',\n",
       " 'P13',\n",
       " 'P14',\n",
       " 'P15']"
      ]
     },
     "execution_count": 3,
     "metadata": {},
     "output_type": "execute_result"
    }
   ],
   "source": [
    "        for i in range(1, 26):\n",
    "            self.d.append('D' + str(i))"
   ]
  },
  {
   "cell_type": "code",
   "execution_count": null,
   "metadata": {},
   "outputs": [],
   "source": []
  },
  {
   "cell_type": "code",
   "execution_count": null,
   "metadata": {},
   "outputs": [],
   "source": []
  },
  {
   "cell_type": "code",
   "execution_count": null,
   "metadata": {},
   "outputs": [],
   "source": []
  },
  {
   "cell_type": "code",
   "execution_count": null,
   "metadata": {},
   "outputs": [],
   "source": []
  },
  {
   "cell_type": "code",
   "execution_count": null,
   "metadata": {},
   "outputs": [],
   "source": [
    "pd.read_sql_query('''SELECT encounter_key, patient_id, doctor_id\n",
    "                               FROM medical_headers\n",
    "                              WHERE ''' + list_diagnosis_code [:-3] + ''' and patient_id \n",
    "                              NOT IN (SELECT patient_id\n",
    "                              FROM medical_headers\n",
    "                              WHERE ''' + d_columns + ''' LIKE '%152%')\n",
    "                              ''', db)"
   ]
  }
 ],
 "metadata": {
  "kernelspec": {
   "display_name": "Python 3",
   "language": "python",
   "name": "python3"
  },
  "language_info": {
   "codemirror_mode": {
    "name": "ipython",
    "version": 3
   },
   "file_extension": ".py",
   "mimetype": "text/x-python",
   "name": "python",
   "nbconvert_exporter": "python",
   "pygments_lexer": "ipython3",
   "version": "3.7.1"
  }
 },
 "nbformat": 4,
 "nbformat_minor": 2
}
